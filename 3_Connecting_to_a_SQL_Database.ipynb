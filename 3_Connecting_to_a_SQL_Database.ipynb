{
 "cells": [
  {
   "cell_type": "markdown",
   "metadata": {},
   "source": [
    "# 3: Connecting to a SQL Database"
   ]
  },
  {
   "cell_type": "markdown",
   "metadata": {},
   "source": [
    "## Setup"
   ]
  },
  {
   "cell_type": "code",
   "execution_count": 1,
   "metadata": {},
   "outputs": [],
   "source": [
    "import os\n",
    "from IPython.display import Markdown, HTML, display\n",
    "from langchain.chat_models import AzureChatOpenAI\n",
    "from langchain.agents import create_sql_agent\n",
    "from langchain.agents.agent_toolkits import SQLDatabaseToolkit\n",
    "from langchain.sql_database import SQLDatabase\n",
    "from langchain_openai import AzureChatOpenAI"
   ]
  },
  {
   "cell_type": "markdown",
   "metadata": {},
   "source": [
    "## Recover the original dataset"
   ]
  },
  {
   "cell_type": "code",
   "execution_count": 2,
   "metadata": {},
   "outputs": [],
   "source": [
    "from sqlalchemy import create_engine\n",
    "import pandas as pd\n",
    "\n",
    "df = pd.read_csv(\"./data/all-states-history.csv\").fillna(value = 0)"
   ]
  },
  {
   "cell_type": "markdown",
   "metadata": {},
   "source": [
    "## Move the data to the SQL database"
   ]
  },
  {
   "cell_type": "code",
   "execution_count": 3,
   "metadata": {},
   "outputs": [
    {
     "data": {
      "text/plain": [
       "20780"
      ]
     },
     "execution_count": 3,
     "metadata": {},
     "output_type": "execute_result"
    }
   ],
   "source": [
    "# Path to your SQLite database file\n",
    "database_file_path = \"./db/test.db\"\n",
    "\n",
    "# Create an engine to connect to the SQLite database\n",
    "# SQLite only requires the path to the database file\n",
    "engine = create_engine(f'sqlite:///{database_file_path}')\n",
    "file_url = \"./data/all-states-history.csv\"\n",
    "df = pd.read_csv(file_url).fillna(value = 0)\n",
    "df.to_sql(\n",
    "    'all_states_history',\n",
    "    con=engine,\n",
    "    if_exists='replace',\n",
    "    index=False\n",
    ")"
   ]
  },
  {
   "cell_type": "markdown",
   "metadata": {},
   "source": [
    "## Prepare the SQL prompt"
   ]
  },
  {
   "cell_type": "code",
   "execution_count": 4,
   "metadata": {},
   "outputs": [],
   "source": [
    "MSSQL_AGENT_PREFIX = \"\"\"\n",
    "\n",
    "You are an agent designed to interact with a SQL database.\n",
    "## Instructions:\n",
    "- Given an input question, create a syntactically correct {dialect} query\n",
    "to run, then look at the results of the query and return the answer.\n",
    "- Unless the user specifies a specific number of examples they wish to\n",
    "obtain, **ALWAYS** limit your query to at most {top_k} results.\n",
    "- You can order the results by a relevant column to return the most\n",
    "interesting examples in the database.\n",
    "- Never query for all the columns from a specific table, only ask for\n",
    "the relevant columns given the question.\n",
    "- You have access to tools for interacting with the database.\n",
    "- You MUST double check your query before executing it.If you get an error\n",
    "while executing a query,rewrite the query and try again.\n",
    "- DO NOT make any DML statements (INSERT, UPDATE, DELETE, DROP etc.)\n",
    "to the database.\n",
    "- DO NOT MAKE UP AN ANSWER OR USE PRIOR KNOWLEDGE, ONLY USE THE RESULTS\n",
    "OF THE CALCULATIONS YOU HAVE DONE.\n",
    "- Your response should be in Markdown. However, **when running  a SQL Query\n",
    "in \"Action Input\", do not include the markdown backticks**.\n",
    "Those are only for formatting the response, not for executing the command.\n",
    "- ALWAYS, as part of your final answer, explain how you got to the answer\n",
    "on a section that starts with: \"Explanation:\". Include the SQL query as\n",
    "part of the explanation section.\n",
    "- If the question does not seem related to the database, just return\n",
    "\"I don\\'t know\" as the answer.\n",
    "- Only use the below tools. Only use the information returned by the\n",
    "below tools to construct your query and final answer.\n",
    "- Do not make up table names, only use the tables returned by any of the\n",
    "tools below.\n",
    "\n",
    "## Tools:\n",
    "\n",
    "\"\"\""
   ]
  },
  {
   "cell_type": "code",
   "execution_count": 5,
   "metadata": {},
   "outputs": [],
   "source": [
    "MSSQL_AGENT_FORMAT_INSTRUCTIONS = \"\"\"\n",
    "\n",
    "## Use the following format:\n",
    "\n",
    "Question: the input question you must answer.\n",
    "Thought: you should always think about what to do.\n",
    "Action: the action to take, should be one of [{tool_names}].\n",
    "Action Input: the input to the action.\n",
    "Observation: the result of the action.\n",
    "... (this Thought/Action/Action Input/Observation can repeat N times)\n",
    "Thought: I now know the final answer.\n",
    "Final Answer: the final answer to the original input question.\n",
    "\n",
    "Example of Final Answer:\n",
    "<=== Beginning of example\n",
    "\n",
    "Action: query_sql_db\n",
    "Action Input: \n",
    "SELECT TOP (10) [death]\n",
    "FROM covidtracking \n",
    "WHERE state = 'TX' AND date LIKE '2020%'\n",
    "\n",
    "Observation:\n",
    "[(27437.0,), (27088.0,), (26762.0,), (26521.0,), (26472.0,), (26421.0,), (26408.0,)]\n",
    "Thought:I now know the final answer\n",
    "Final Answer: There were 27437 people who died of covid in Texas in 2020.\n",
    "\n",
    "Explanation:\n",
    "I queried the `covidtracking` table for the `death` column where the state\n",
    "is 'TX' and the date starts with '2020'. The query returned a list of tuples\n",
    "with the number of deaths for each day in 2020. To answer the question,\n",
    "I took the sum of all the deaths in the list, which is 27437.\n",
    "I used the following query\n",
    "\n",
    "```sql\n",
    "SELECT [death] FROM covidtracking WHERE state = 'TX' AND date LIKE '2020%'\"\n",
    "```\n",
    "===> End of Example\n",
    "\n",
    "\"\"\""
   ]
  },
  {
   "cell_type": "markdown",
   "metadata": {},
   "source": [
    "## Call the Azure Chat model and create the SQL agent"
   ]
  },
  {
   "cell_type": "code",
   "execution_count": 16,
   "metadata": {},
   "outputs": [],
   "source": [
    "AZURE_OPENAI_API_VERSION = os.environ[\"AZURE_OPENAI_API_VERSION\"]\n",
    "AZURE_OPENAI_ENDPOINT = os.environ[\"AZURE_OPENAI_ENDPOINT\"]\n",
    "AZURE_OPENAI_API_KEY = os.environ[\"AZURE_OPENAI_API_KEY\"]\n",
    "AZURE_OPENAI_MODEL = os.environ[\"AZURE_OPENAI_MODEL\"]\n",
    "\n",
    "llm = AzureChatOpenAI(\n",
    "    openai_api_version=AZURE_OPENAI_API_VERSION,\n",
    "    azure_deployment=AZURE_OPENAI_MODEL,\n",
    "    azure_endpoint=AZURE_OPENAI_ENDPOINT,\n",
    "    temperature=0, \n",
    "    max_tokens=500\n",
    ")\n",
    "\n",
    "db = SQLDatabase.from_uri(f'sqlite:///{database_file_path}')\n",
    "toolkit = SQLDatabaseToolkit(db=db, llm=llm)"
   ]
  },
  {
   "cell_type": "code",
   "execution_count": 17,
   "metadata": {},
   "outputs": [],
   "source": [
    "QUESTION = \"\"\"How may patients were hospitalized during October 2020\n",
    "in New York, and nationwide as the total of all states?\n",
    "Use the hospitalizedIncrease column\n",
    "\"\"\"\n",
    "\n",
    "agent_executor_SQL = create_sql_agent(\n",
    "    prefix=MSSQL_AGENT_PREFIX,\n",
    "    format_instructions = MSSQL_AGENT_FORMAT_INSTRUCTIONS,\n",
    "    llm=llm,\n",
    "    toolkit=toolkit,\n",
    "    top_k=30,\n",
    "    verbose=True\n",
    ")"
   ]
  },
  {
   "cell_type": "markdown",
   "metadata": {},
   "source": [
    "## Invoke the SQL model"
   ]
  },
  {
   "cell_type": "code",
   "execution_count": 18,
   "metadata": {},
   "outputs": [
    {
     "name": "stdout",
     "output_type": "stream",
     "text": [
      "\n",
      "\n",
      "\u001b[1m> Entering new AgentExecutor chain...\u001b[0m\n",
      "\u001b[32;1m\u001b[1;3mTo answer this question, I need to perform the following steps:\n",
      "\n",
      "1. Identify the relevant table that contains the COVID-19 data.\n",
      "2. Check the schema of the table to ensure it contains the `hospitalizedIncrease`, `state`, and `date` columns.\n",
      "3. Construct and execute SQL queries to get the sum of `hospitalizedIncrease` for New York and for all states during October 2020.\n",
      "\n",
      "First, I will list all the tables in the database to identify the relevant table.\n",
      "\n",
      "Action: sql_db_list_tables\n",
      "Action Input: \u001b[0m\u001b[38;5;200m\u001b[1;3malbums, all_states_history, artists, customers, employees, genres, invoice_items, invoices, media_types, playlist_track, playlists, tracks\u001b[0m\u001b[32;1m\u001b[1;3mThe table `all_states_history` seems to be the most relevant for COVID-19 data. Next, I will check the schema of the `all_states_history` table to ensure it contains the `hospitalizedIncrease`, `state`, and `date` columns.\n",
      "\n",
      "Action: sql_db_schema\n",
      "Action Input: all_states_history\u001b[0m\u001b[33;1m\u001b[1;3m\n",
      "CREATE TABLE all_states_history (\n",
      "\tdate TEXT, \n",
      "\tstate TEXT, \n",
      "\tdeath FLOAT, \n",
      "\t\"deathConfirmed\" FLOAT, \n",
      "\t\"deathIncrease\" BIGINT, \n",
      "\t\"deathProbable\" FLOAT, \n",
      "\thospitalized FLOAT, \n",
      "\t\"hospitalizedCumulative\" FLOAT, \n",
      "\t\"hospitalizedCurrently\" FLOAT, \n",
      "\t\"hospitalizedIncrease\" BIGINT, \n",
      "\t\"inIcuCumulative\" FLOAT, \n",
      "\t\"inIcuCurrently\" FLOAT, \n",
      "\tnegative FLOAT, \n",
      "\t\"negativeIncrease\" BIGINT, \n",
      "\t\"negativeTestsAntibody\" FLOAT, \n",
      "\t\"negativeTestsPeopleAntibody\" FLOAT, \n",
      "\t\"negativeTestsViral\" FLOAT, \n",
      "\t\"onVentilatorCumulative\" FLOAT, \n",
      "\t\"onVentilatorCurrently\" FLOAT, \n",
      "\tpositive FLOAT, \n",
      "\t\"positiveCasesViral\" FLOAT, \n",
      "\t\"positiveIncrease\" BIGINT, \n",
      "\t\"positiveScore\" BIGINT, \n",
      "\t\"positiveTestsAntibody\" FLOAT, \n",
      "\t\"positiveTestsAntigen\" FLOAT, \n",
      "\t\"positiveTestsPeopleAntibody\" FLOAT, \n",
      "\t\"positiveTestsPeopleAntigen\" FLOAT, \n",
      "\t\"positiveTestsViral\" FLOAT, \n",
      "\trecovered FLOAT, \n",
      "\t\"totalTestEncountersViral\" FLOAT, \n",
      "\t\"totalTestEncountersViralIncrease\" BIGINT, \n",
      "\t\"totalTestResults\" FLOAT, \n",
      "\t\"totalTestResultsIncrease\" BIGINT, \n",
      "\t\"totalTestsAntibody\" FLOAT, \n",
      "\t\"totalTestsAntigen\" FLOAT, \n",
      "\t\"totalTestsPeopleAntibody\" FLOAT, \n",
      "\t\"totalTestsPeopleAntigen\" FLOAT, \n",
      "\t\"totalTestsPeopleViral\" FLOAT, \n",
      "\t\"totalTestsPeopleViralIncrease\" BIGINT, \n",
      "\t\"totalTestsViral\" FLOAT, \n",
      "\t\"totalTestsViralIncrease\" BIGINT\n",
      ")\n",
      "\n",
      "/*\n",
      "3 rows from all_states_history table:\n",
      "date\tstate\tdeath\tdeathConfirmed\tdeathIncrease\tdeathProbable\thospitalized\thospitalizedCumulative\thospitalizedCurrently\thospitalizedIncrease\tinIcuCumulative\tinIcuCurrently\tnegative\tnegativeIncrease\tnegativeTestsAntibody\tnegativeTestsPeopleAntibody\tnegativeTestsViral\tonVentilatorCumulative\tonVentilatorCurrently\tpositive\tpositiveCasesViral\tpositiveIncrease\tpositiveScore\tpositiveTestsAntibody\tpositiveTestsAntigen\tpositiveTestsPeopleAntibody\tpositiveTestsPeopleAntigen\tpositiveTestsViral\trecovered\ttotalTestEncountersViral\ttotalTestEncountersViralIncrease\ttotalTestResults\ttotalTestResultsIncrease\ttotalTestsAntibody\ttotalTestsAntigen\ttotalTestsPeopleAntibody\ttotalTestsPeopleAntigen\ttotalTestsPeopleViral\ttotalTestsPeopleViralIncrease\ttotalTestsViral\ttotalTestsViralIncrease\n",
      "2021-03-07\tAK\t305.0\t0.0\t0\t0.0\t1293.0\t1293.0\t33.0\t0\t0.0\t0.0\t0.0\t0\t0.0\t0.0\t1660758.0\t0.0\t2.0\t56886.0\t0.0\t0\t0\t0.0\t0.0\t0.0\t0.0\t68693.0\t0.0\t0.0\t0\t1731628.0\t0\t0.0\t0.0\t0.0\t0.0\t0.0\t0\t1731628.0\t0\n",
      "2021-03-07\tAL\t10148.0\t7963.0\t-1\t2185.0\t45976.0\t45976.0\t494.0\t0\t2676.0\t0.0\t1931711.0\t2087\t0.0\t0.0\t0.0\t1515.0\t0.0\t499819.0\t392077.0\t408\t0\t0.0\t0.0\t0.0\t0.0\t0.0\t295690.0\t0.0\t0\t2323788.0\t2347\t0.0\t0.0\t119757.0\t0.0\t2323788.0\t2347\t0.0\t0\n",
      "2021-03-07\tAR\t5319.0\t4308.0\t22\t1011.0\t14926.0\t14926.0\t335.0\t11\t0.0\t141.0\t2480716.0\t3267\t0.0\t0.0\t2480716.0\t1533.0\t65.0\t324818.0\t255726.0\t165\t0\t0.0\t0.0\t0.0\t81803.0\t0.0\t315517.0\t0.0\t0\t2736442.0\t3380\t0.0\t0.0\t0.0\t481311.0\t0.0\t0\t2736442.0\t3380\n",
      "*/\u001b[0m\u001b[32;1m\u001b[1;3mThe `all_states_history` table contains the necessary columns: `date`, `state`, and `hospitalizedIncrease`. Now, I need to construct SQL queries to get the sum of `hospitalizedIncrease` for New York and for all states during October 2020.\n",
      "\n",
      "First, I will construct the query for New York.\n",
      "\n",
      "Thought: I will construct a query to sum the `hospitalizedIncrease` for New York during October 2020.\n",
      "\n",
      "Action: sql_db_query_checker\n",
      "Action Input: \n",
      "```sql\n",
      "SELECT SUM(hospitalizedIncrease) \n",
      "FROM all_states_history \n",
      "WHERE state = 'NY' AND date LIKE '2020-10%'\n",
      "```\u001b[0m\u001b[36;1m\u001b[1;3m```sql\n",
      "SELECT SUM(hospitalizedIncrease) \n",
      "FROM all_states_history \n",
      "WHERE state = 'NY' AND date LIKE '2020-10%'\n",
      "```\u001b[0m\u001b[32;1m\u001b[1;3mThe SQL query for summing the `hospitalizedIncrease` for New York during October 2020 is correct. Now, I will execute this query.\n",
      "\n",
      "Action: sql_db_query\n",
      "Action Input: \n",
      "```sql\n",
      "SELECT SUM(hospitalizedIncrease) \n",
      "FROM all_states_history \n",
      "WHERE state = 'NY' AND date LIKE '2020-10%'\n",
      "```\u001b[0m\u001b[36;1m\u001b[1;3mError: (sqlite3.OperationalError) near \"```sql\n",
      "SELECT SUM(hospitalizedIncrease) \n",
      "FROM all_states_history \n",
      "WHERE state = 'NY' AND date LIKE '2020-10%'\n",
      "```\": syntax error\n",
      "[SQL: ```sql\n",
      "SELECT SUM(hospitalizedIncrease) \n",
      "FROM all_states_history \n",
      "WHERE state = 'NY' AND date LIKE '2020-10%'\n",
      "```]\n",
      "(Background on this error at: https://sqlalche.me/e/20/e3q8)\u001b[0m\u001b[32;1m\u001b[1;3mIt seems there was an error due to the formatting of the SQL query. I will remove the extra formatting and try again.\n",
      "\n",
      "Action: sql_db_query\n",
      "Action Input: \n",
      "```sql\n",
      "SELECT SUM(hospitalizedIncrease) \n",
      "FROM all_states_history \n",
      "WHERE state = 'NY' AND date LIKE '2020-10%'\n",
      "```\u001b[0m\u001b[36;1m\u001b[1;3mError: (sqlite3.OperationalError) near \"```sql\n",
      "SELECT SUM(hospitalizedIncrease) \n",
      "FROM all_states_history \n",
      "WHERE state = 'NY' AND date LIKE '2020-10%'\n",
      "```\": syntax error\n",
      "[SQL: ```sql\n",
      "SELECT SUM(hospitalizedIncrease) \n",
      "FROM all_states_history \n",
      "WHERE state = 'NY' AND date LIKE '2020-10%'\n",
      "```]\n",
      "(Background on this error at: https://sqlalche.me/e/20/e3q8)\u001b[0m\u001b[32;1m\u001b[1;3mIt appears that the error is due to the inclusion of the triple backticks in the SQL query. I will remove them and try again.\n",
      "\n",
      "Action: sql_db_query\n",
      "Action Input: \n",
      "SELECT SUM(hospitalizedIncrease) \n",
      "FROM all_states_history \n",
      "WHERE state = 'NY' AND date LIKE '2020-10%'\u001b[0m\u001b[36;1m\u001b[1;3m[(0,)]\u001b[0m\u001b[32;1m\u001b[1;3mThe result for the sum of `hospitalizedIncrease` for New York during October 2020 is 0. Now, I need to construct and execute a similar query to get the sum of `hospitalizedIncrease` for all states during October 2020.\n",
      "\n",
      "Thought: I will construct a query to sum the `hospitalizedIncrease` for all states during October 2020.\n",
      "\n",
      "Action: sql_db_query_checker\n",
      "Action Input: \n",
      "```sql\n",
      "SELECT SUM(hospitalizedIncrease) \n",
      "FROM all_states_history \n",
      "WHERE date LIKE '2020-10%'\n",
      "```\u001b[0m\u001b[36;1m\u001b[1;3m```sql\n",
      "SELECT SUM(hospitalizedIncrease) \n",
      "FROM all_states_history \n",
      "WHERE date LIKE '2020-10%'\n",
      "```\u001b[0m\u001b[32;1m\u001b[1;3mThe SQL query for summing the `hospitalizedIncrease` for all states during October 2020 is correct. Now, I will execute this query.\n",
      "\n",
      "Action: sql_db_query\n",
      "Action Input: \n",
      "```sql\n",
      "SELECT SUM(hospitalizedIncrease) \n",
      "FROM all_states_history \n",
      "WHERE date LIKE '2020-10%'\n",
      "```\u001b[0m\u001b[36;1m\u001b[1;3mError: (sqlite3.OperationalError) near \"```sql\n",
      "SELECT SUM(hospitalizedIncrease) \n",
      "FROM all_states_history \n",
      "WHERE date LIKE '2020-10%'\n",
      "```\": syntax error\n",
      "[SQL: ```sql\n",
      "SELECT SUM(hospitalizedIncrease) \n",
      "FROM all_states_history \n",
      "WHERE date LIKE '2020-10%'\n",
      "```]\n",
      "(Background on this error at: https://sqlalche.me/e/20/e3q8)\u001b[0m\u001b[32;1m\u001b[1;3mIt seems that the error is due to the inclusion of the triple backticks in the SQL query. I will remove them and try again.\n",
      "\n",
      "Action: sql_db_query\n",
      "Action Input: \n",
      "SELECT SUM(hospitalizedIncrease) \n",
      "FROM all_states_history \n",
      "WHERE date LIKE '2020-10%'\u001b[0m\u001b[36;1m\u001b[1;3m[(53485,)]\u001b[0m\u001b[32;1m\u001b[1;3mThe result for the sum of `hospitalizedIncrease` for all states during October 2020 is 53,485. \n",
      "\n",
      "To summarize:\n",
      "\n",
      "- The number of patients hospitalized in New York during October 2020 is 0.\n",
      "- The total number of patients hospitalized nationwide during October 2020 is 53,485.\n",
      "\n",
      "Final Answer: In October 2020, there were 0 patients hospitalized in New York and 53,485 patients hospitalized nationwide.\u001b[0m\n",
      "\n",
      "\u001b[1m> Finished chain.\u001b[0m\n"
     ]
    },
    {
     "data": {
      "text/plain": [
       "{'input': 'How may patients were hospitalized during October 2020\\nin New York, and nationwide as the total of all states?\\nUse the hospitalizedIncrease column\\n',\n",
       " 'output': 'In October 2020, there were 0 patients hospitalized in New York and 53,485 patients hospitalized nationwide.'}"
      ]
     },
     "execution_count": 18,
     "metadata": {},
     "output_type": "execute_result"
    }
   ],
   "source": [
    "agent_executor_SQL.invoke(QUESTION)"
   ]
  }
 ],
 "metadata": {
  "kernelspec": {
   "display_name": "myenv",
   "language": "python",
   "name": "python3"
  },
  "language_info": {
   "codemirror_mode": {
    "name": "ipython",
    "version": 3
   },
   "file_extension": ".py",
   "mimetype": "text/x-python",
   "name": "python",
   "nbconvert_exporter": "python",
   "pygments_lexer": "ipython3",
   "version": "3.11.7"
  }
 },
 "nbformat": 4,
 "nbformat_minor": 2
}
